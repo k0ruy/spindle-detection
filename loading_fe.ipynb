{
 "cells": [
  {
   "cell_type": "code",
   "execution_count": 1,
   "metadata": {},
   "outputs": [],
   "source": [
    "import os\n",
    "import numpy as np\n",
    "import pandas as pd\n",
    "import matplotlib.pyplot as plt\n",
    "import seaborn as sns\n",
    "import mne\n",
    "import seaborn as sns\n",
    "from os.path import join as pjoin\n",
    "from scipy.signal import butter, filtfilt, resample\n",
    "from tqdm import tqdm\n",
    "\n",
    "import warnings\n",
    "warnings.filterwarnings(\"ignore\")\n",
    "sns.set(font_scale=1.2)"
   ]
  },
  {
   "cell_type": "code",
   "execution_count": 2,
   "metadata": {},
   "outputs": [],
   "source": [
    "def load_edf_signal(file, f_low = 0.3, f_high = 35):\n",
    "    file_name = pjoin('data/', file)\n",
    "\n",
    "    # Load whole night PSG sleep data (EEG, EOG, EMG and EKG signals)\n",
    "    raw = mne.io.read_raw_edf(file_name, preload=True, verbose=0)\n",
    "    # Let’s remove the EOG, EMG and EKG channels:\n",
    "    # print(f'All channels:\\n{raw.ch_names}')\n",
    "    raw.drop_channels(['ECG', 'EOG1-A1', 'EOG2-A1', 'EMG1'])\n",
    "    # print(f'Selected channels:\\n{raw.ch_names}')\n",
    "\n",
    "    # Check the sampling frequency of the data in Hertz (Hz):\n",
    "    # print(f'Original fs: {raw.info[\"sfreq\"]} Hz')\n",
    "    raw_downsampled = raw.copy().resample(sfreq=200)\n",
    "\n",
    "    # print(f'\\nNew sampling frequency: {raw.info[\"sfreq\"]} Hz')\n",
    "    raw_downsampled.filter(f_low, f_high, verbose=0)\n",
    "\n",
    "    data_filtered = raw_downsampled.get_data(units=\"uV\", verbose=0)\n",
    "    return data_filtered, raw_downsampled"
   ]
  },
  {
   "cell_type": "code",
   "execution_count": 3,
   "metadata": {},
   "outputs": [],
   "source": [
    "# Define bandpass filter\n",
    "def bandpass_filter(x, f_low, f_high, fs, n):\n",
    "  f_nyquist = 0.5 * fs\n",
    "  low = f_low / f_nyquist\n",
    "  high = f_high / f_nyquist\n",
    "  b, a = butter(n, [low, high], btype=\"band\")\n",
    "  y = filtfilt(b, a, x)\n",
    "  return y"
   ]
  },
  {
   "cell_type": "code",
   "execution_count": 4,
   "metadata": {},
   "outputs": [],
   "source": [
    "from scipy.signal import resample\n",
    "\n",
    "def resample_sig(sig, fs_res=200):\n",
    "    # Resampling\n",
    "    n_samps = sig.shape[0] # Number of samples in signal\n",
    "    time_seconds = 1800  # 30 minutes = 1800 seconds\n",
    "\n",
    "    fs = n_samps / time_seconds\n",
    "    n_samps_res = int(n_samps/fs*fs_res) # Number of samples in signal after resampling\n",
    "    return resample(sig, n_samps_res)"
   ]
  },
  {
   "cell_type": "code",
   "execution_count": 5,
   "metadata": {},
   "outputs": [],
   "source": [
    "def load_txt_signal(file, f_low, f_high):\n",
    "    file_name = pjoin('data/', file)\n",
    "\n",
    "    # data is for channel C3-A1\n",
    "    data = np.loadtxt(file_name, skiprows=1)\n",
    "\n",
    "    # resample\n",
    "    resampled = resample_sig(data)\n",
    "    # filter\n",
    "    filtered = bandpass_filter(resampled, f_low, f_high, 200, 4)\n",
    "\n",
    "    return filtered"
   ]
  },
  {
   "cell_type": "code",
   "execution_count": 6,
   "metadata": {},
   "outputs": [],
   "source": [
    "# Filtering\n",
    "f_low = 0.3\n",
    "f_high = 35\n",
    "n = 2\n",
    "fs = 200"
   ]
  },
  {
   "cell_type": "code",
   "execution_count": 7,
   "metadata": {},
   "outputs": [
    {
     "name": "stderr",
     "output_type": "stream",
     "text": [
      "  0%|          | 0/47 [00:00<?, ?it/s][Parallel(n_jobs=1)]: Using backend SequentialBackend with 1 concurrent workers.\n",
      "[Parallel(n_jobs=1)]: Done   1 out of   1 | elapsed:    0.0s remaining:    0.0s\n",
      "[Parallel(n_jobs=1)]: Done   2 out of   2 | elapsed:    0.0s remaining:    0.0s\n",
      "[Parallel(n_jobs=1)]: Done   3 out of   3 | elapsed:    0.0s remaining:    0.0s\n",
      "[Parallel(n_jobs=1)]: Done   4 out of   4 | elapsed:    0.0s remaining:    0.0s\n",
      "[Parallel(n_jobs=1)]: Done  24 out of  24 | elapsed:    0.1s finished\n",
      " 26%|██▌       | 12/47 [00:01<00:04,  8.38it/s][Parallel(n_jobs=1)]: Using backend SequentialBackend with 1 concurrent workers.\n",
      "[Parallel(n_jobs=1)]: Done   1 out of   1 | elapsed:    0.0s remaining:    0.0s\n",
      "[Parallel(n_jobs=1)]: Done   2 out of   2 | elapsed:    0.0s remaining:    0.0s\n",
      "[Parallel(n_jobs=1)]: Done   3 out of   3 | elapsed:    0.0s remaining:    0.0s\n",
      "[Parallel(n_jobs=1)]: Done   4 out of   4 | elapsed:    0.0s remaining:    0.0s\n",
      "[Parallel(n_jobs=1)]: Done  16 out of  16 | elapsed:    0.0s finished\n",
      " 30%|██▉       | 14/47 [00:02<00:05,  6.53it/s][Parallel(n_jobs=1)]: Using backend SequentialBackend with 1 concurrent workers.\n",
      "[Parallel(n_jobs=1)]: Done   1 out of   1 | elapsed:    0.0s remaining:    0.0s\n",
      "[Parallel(n_jobs=1)]: Done   2 out of   2 | elapsed:    0.0s remaining:    0.0s\n",
      "[Parallel(n_jobs=1)]: Done   3 out of   3 | elapsed:    0.0s remaining:    0.0s\n",
      "[Parallel(n_jobs=1)]: Done   4 out of   4 | elapsed:    0.0s remaining:    0.0s\n",
      "[Parallel(n_jobs=1)]: Done  24 out of  24 | elapsed:    0.1s finished\n",
      " 34%|███▍      | 16/47 [00:03<00:07,  4.09it/s][Parallel(n_jobs=1)]: Using backend SequentialBackend with 1 concurrent workers.\n",
      "[Parallel(n_jobs=1)]: Done   1 out of   1 | elapsed:    0.0s remaining:    0.0s\n",
      "[Parallel(n_jobs=1)]: Done   2 out of   2 | elapsed:    0.0s remaining:    0.0s\n",
      "[Parallel(n_jobs=1)]: Done   3 out of   3 | elapsed:    0.0s remaining:    0.0s\n",
      "[Parallel(n_jobs=1)]: Done   4 out of   4 | elapsed:    0.0s remaining:    0.0s\n",
      "[Parallel(n_jobs=1)]: Done  24 out of  24 | elapsed:    0.1s finished\n",
      " 38%|███▊      | 18/47 [00:04<00:09,  3.15it/s][Parallel(n_jobs=1)]: Using backend SequentialBackend with 1 concurrent workers.\n",
      "[Parallel(n_jobs=1)]: Done   1 out of   1 | elapsed:    0.0s remaining:    0.0s\n",
      "[Parallel(n_jobs=1)]: Done   2 out of   2 | elapsed:    0.0s remaining:    0.0s\n",
      "[Parallel(n_jobs=1)]: Done   3 out of   3 | elapsed:    0.0s remaining:    0.0s\n",
      "[Parallel(n_jobs=1)]: Done   4 out of   4 | elapsed:    0.0s remaining:    0.0s\n",
      "[Parallel(n_jobs=1)]: Done  24 out of  24 | elapsed:    0.1s finished\n",
      " 43%|████▎     | 20/47 [00:05<00:10,  2.65it/s][Parallel(n_jobs=1)]: Using backend SequentialBackend with 1 concurrent workers.\n",
      "[Parallel(n_jobs=1)]: Done   1 out of   1 | elapsed:    0.0s remaining:    0.0s\n",
      "[Parallel(n_jobs=1)]: Done   2 out of   2 | elapsed:    0.0s remaining:    0.0s\n",
      "[Parallel(n_jobs=1)]: Done   3 out of   3 | elapsed:    0.0s remaining:    0.0s\n",
      "[Parallel(n_jobs=1)]: Done   4 out of   4 | elapsed:    0.0s remaining:    0.0s\n",
      "[Parallel(n_jobs=1)]: Done  24 out of  24 | elapsed:    0.1s finished\n",
      " 47%|████▋     | 22/47 [00:06<00:10,  2.32it/s][Parallel(n_jobs=1)]: Using backend SequentialBackend with 1 concurrent workers.\n",
      "[Parallel(n_jobs=1)]: Done   1 out of   1 | elapsed:    0.0s remaining:    0.0s\n",
      "[Parallel(n_jobs=1)]: Done   2 out of   2 | elapsed:    0.0s remaining:    0.0s\n",
      "[Parallel(n_jobs=1)]: Done   3 out of   3 | elapsed:    0.0s remaining:    0.0s\n",
      "[Parallel(n_jobs=1)]: Done   4 out of   4 | elapsed:    0.0s remaining:    0.0s\n",
      "[Parallel(n_jobs=1)]: Done  24 out of  24 | elapsed:    0.1s finished\n",
      "100%|██████████| 47/47 [00:07<00:00,  6.10it/s]\n"
     ]
    }
   ],
   "source": [
    "patients = []\n",
    "patients_raw = []\n",
    "\n",
    "for file in tqdm(os.listdir('data')):\n",
    "    if file.startswith('excerpt1') and file.endswith('.txt'):\n",
    "        txt_data = load_txt_signal(file=file, f_low=0.3, f_high=35)\n",
    "        patients.append(txt_data)\n",
    "\n",
    "    if file.startswith('excerpt') and file.endswith('.edf'):\n",
    "        filtered_data, raw = load_edf_signal(file=file, f_low=0.3, f_high=35)\n",
    "        patients.append(filtered_data)\n",
    "        patients_raw.append(raw)"
   ]
  },
  {
   "attachments": {},
   "cell_type": "markdown",
   "metadata": {},
   "source": [
    "# da qui ho fatto"
   ]
  },
  {
   "cell_type": "code",
   "execution_count": 8,
   "metadata": {},
   "outputs": [],
   "source": [
    "from scipy.stats import entropy, kurtosis, skew\n",
    "from scipy.signal import hilbert, welch\n",
    "\n",
    "def extract_features(data, sfreq):\n",
    "    # Initialize feature vector\n",
    "    features = []\n",
    "\n",
    "    # Define window size and step size (in samples)\n",
    "    win_size = int(0.5 * sfreq)\n",
    "    step_size = int(0.5 * sfreq)\n",
    "\n",
    "    # Iterate over data with sliding window\n",
    "    for i in tqdm(range(0, data.shape[0], step_size)):\n",
    "        win = data[i:i+win_size]\n",
    "\n",
    "        e = entropy(win, base=2)\n",
    "        if np.isinf(e):\n",
    "            e = -np.log2(1e-9)\n",
    "\n",
    "        max_val = win.max()\n",
    "        min_val = win.min()\n",
    "\n",
    "        var = win.var()\n",
    "        std = win.std()\n",
    "\n",
    "        analytic_signal = hilbert(win)\n",
    "        amplitude_envelope = np.abs(analytic_signal)\n",
    "        phase = np.unwrap(np.angle(analytic_signal))\n",
    "        pac = np.mean(np.multiply(amplitude_envelope, np.cos(phase)))\n",
    "\n",
    "        freqs, power = welch(win, fs=200)\n",
    "        freq_index = np.argmax(power[(freqs >= 4) & (freqs <= 30)])\n",
    "        inst_freq = freqs[freq_index]\n",
    "\n",
    "        energy_ratio = power[(freqs >= 11) & (freqs <= 16)].sum() / power.sum()\n",
    "\n",
    "        kurt = kurtosis(win)\n",
    "        skewness = skew(win)\n",
    "\n",
    "        pwr_peak = freqs[power.argmax()]\n",
    "        pwr_ratio = power[(freqs >= 4) & (freqs <= 30)].sum() / power.sum()\n",
    "\n",
    "        iqr = np.percentile(win, 75) - np.percentile(win, 25)\n",
    "\n",
    "        zero_crossing = np.where(np.diff(np.signbit(win)))[0].size\n",
    "\n",
    "        features.append([e, max_val, min_val, var, std, pac, inst_freq, energy_ratio, kurt, skewness, pwr_peak, pwr_ratio, iqr, zero_crossing])\n",
    "\n",
    "    # Convert feature vector to numpy array and return\n",
    "    return np.array(features)"
   ]
  },
  {
   "cell_type": "code",
   "execution_count": 9,
   "metadata": {},
   "outputs": [],
   "source": [
    "mat = pd.DataFrame(columns=['entropy',\n",
    "                                'max',\n",
    "                                'min',\n",
    "                                'var',\n",
    "                                'std',\n",
    "                                'pac',\n",
    "                                'inst_freq',\n",
    "                                'enegry_ratio',\n",
    "                                'kurt',\n",
    "                                'skew',\n",
    "                                'pwr_peak',\n",
    "                                'pwr_ratio',\n",
    "                                'iqr',\n",
    "                                'zero_crossing'])"
   ]
  },
  {
   "cell_type": "code",
   "execution_count": 10,
   "metadata": {},
   "outputs": [
    {
     "name": "stderr",
     "output_type": "stream",
     "text": [
      "100%|██████████| 3600/3600 [00:05<00:00, 679.48it/s]\n",
      "100%|██████████| 3600/3600 [00:05<00:00, 694.82it/s]\n",
      "100%|██████████| 3600/3600 [00:05<00:00, 693.87it/s]\n",
      "100%|██████████| 3600/3600 [00:05<00:00, 681.96it/s]\n",
      "100%|██████████| 3600/3600 [00:05<00:00, 696.71it/s]\n",
      "100%|██████████| 3600/3600 [00:05<00:00, 689.80it/s]\n",
      "100%|██████████| 3600/3600 [00:05<00:00, 679.13it/s]\n",
      "100%|██████████| 3600/3600 [00:05<00:00, 694.55it/s]\n"
     ]
    }
   ],
   "source": [
    "# Extract features for channel CZ-A1 for each patient\n",
    "matrices = []\n",
    "\n",
    "# text-only patient (patient 1)\n",
    "feat = patients[0]\n",
    "sfreq = 200\n",
    "curr_feats = extract_features(feat, sfreq)\n",
    "patient_mat = pd.concat([mat, pd.DataFrame(curr_feats, columns=mat.columns)])\n",
    "\n",
    "matrices.append(patient_mat)\n",
    "\n",
    "\n",
    "for raw, patient in zip(patients_raw, patients[1:]):\n",
    "    # patients with complementary raw file\n",
    "    df = raw.to_data_frame()\n",
    "    if \"CZ-A1\" in df.columns:\n",
    "        _feat_index = df.columns.get_loc(\"CZ-A1\")\n",
    "    elif  \"C3-A1\" in df.columns:\n",
    "        _feat_index = df.columns.get_loc(\"C3-A1\")\n",
    "\n",
    "    feat = patient[_feat_index]\n",
    "    sfreq = raw.info['sfreq']\n",
    "    curr_feats = extract_features(feat, sfreq)\n",
    "    patient_mat = pd.concat([mat, pd.DataFrame(curr_feats, columns=mat.columns)])\n",
    "    \n",
    "    matrices.append(patient_mat)"
   ]
  },
  {
   "attachments": {},
   "cell_type": "markdown",
   "metadata": {},
   "source": [
    "# Create X and y"
   ]
  },
  {
   "cell_type": "code",
   "execution_count": 20,
   "metadata": {},
   "outputs": [
    {
     "name": "stderr",
     "output_type": "stream",
     "text": [
      "100%|██████████| 3600/3600 [00:00<00:00, 119979.14it/s]\n"
     ]
    },
    {
     "name": "stdout",
     "output_type": "stream",
     "text": [
      "(array([0, 1]), array([3191,  409], dtype=int64))\n"
     ]
    },
    {
     "name": "stderr",
     "output_type": "stream",
     "text": [
      "100%|██████████| 3600/3600 [00:00<00:00, 116101.73it/s]\n"
     ]
    },
    {
     "name": "stdout",
     "output_type": "stream",
     "text": [
      "(array([0, 1]), array([3363,  237], dtype=int64))\n"
     ]
    },
    {
     "name": "stderr",
     "output_type": "stream",
     "text": [
      "100%|██████████| 3600/3600 [00:00<00:00, 105859.59it/s]\n"
     ]
    },
    {
     "name": "stdout",
     "output_type": "stream",
     "text": [
      "(array([0, 1]), array([3480,  120], dtype=int64))\n"
     ]
    },
    {
     "name": "stderr",
     "output_type": "stream",
     "text": [
      "100%|██████████| 3600/3600 [00:00<00:00, 112472.96it/s]\n"
     ]
    },
    {
     "name": "stdout",
     "output_type": "stream",
     "text": [
      "(array([0, 1]), array([3414,  186], dtype=int64))\n"
     ]
    },
    {
     "name": "stderr",
     "output_type": "stream",
     "text": [
      "100%|██████████| 3600/3600 [00:00<00:00, 119973.42it/s]\n"
     ]
    },
    {
     "name": "stdout",
     "output_type": "stream",
     "text": [
      "(array([0, 1]), array([3367,  233], dtype=int64))\n"
     ]
    },
    {
     "name": "stderr",
     "output_type": "stream",
     "text": [
      "100%|██████████| 3600/3600 [00:00<00:00, 112477.15it/s]\n"
     ]
    },
    {
     "name": "stdout",
     "output_type": "stream",
     "text": [
      "(array([0, 1]), array([3332,  268], dtype=int64))\n"
     ]
    },
    {
     "name": "stderr",
     "output_type": "stream",
     "text": [
      "100%|██████████| 3600/3600 [00:00<00:00, 124109.17it/s]\n"
     ]
    },
    {
     "name": "stdout",
     "output_type": "stream",
     "text": [
      "(array([0, 1]), array([3351,  249], dtype=int64))\n"
     ]
    },
    {
     "name": "stderr",
     "output_type": "stream",
     "text": [
      "100%|██████████| 3600/3600 [00:00<00:00, 114244.71it/s]\n"
     ]
    },
    {
     "name": "stdout",
     "output_type": "stream",
     "text": [
      "(array([0, 1]), array([3157,  443], dtype=int64))\n"
     ]
    }
   ],
   "source": [
    "plot = []\n",
    "\n",
    "X = []  # features\n",
    "y = []  # labels\n",
    "for i in range(1, 9):\n",
    "    ad = np.loadtxt(f'data/Automatic_detection_excerpt{i}.txt', skiprows=1)\n",
    "    vs1 = np.loadtxt(f'data/Visual_scoring1_excerpt{i}.txt', skiprows=1)\n",
    "    if os.path.exists(f'data/Visual_scoring2_excerpt{i}.txt'):\n",
    "        vs2 = np.loadtxt(f'data/Visual_scoring2_excerpt{i}.txt', skiprows=1)\n",
    "\n",
    "    # Concatenate vertically\n",
    "    concatenated = np.vstack((ad, vs1, vs2))\n",
    "\n",
    "    # Sort based on first column\n",
    "    sorted_indices = np.argsort(concatenated[:, 0])\n",
    "    data = concatenated[sorted_indices]\n",
    "\n",
    "    plot.append(data.shape)\n",
    "\n",
    "    X_patient = matrices[i-1]\n",
    "\n",
    "    #### correction ####\n",
    "    # data used to get the shape of the original signal\n",
    "    # need to be data resampled so that every file has the same shape\n",
    "    original_signal = load_txt_signal(file=f'excerpt{i}.txt', f_low=0.3, f_high=35)\n",
    "    \n",
    "    ####################\n",
    "\n",
    "    y_patient = np.zeros(original_signal.shape[0])  # set labels to 0 for all windows\n",
    "    for spindle in data:\n",
    "        start_idx = int(sfreq * spindle[0])\n",
    "        duration_idx = int(sfreq * spindle[1])\n",
    "        interval_indices = np.logical_and(\n",
    "            np.arange(original_signal.shape[0]) >= start_idx,\n",
    "            np.arange(original_signal.shape[0]) < start_idx + duration_idx\n",
    "            )\n",
    "\n",
    "        # Set the corresponding elements of y_patient to 1\n",
    "        y_patient[interval_indices] = 1\n",
    "\n",
    "    # Define window size and step size (in samples)\n",
    "    win_size = int(0.5 * sfreq)\n",
    "    step_size = int(0.5 * sfreq)\n",
    "\n",
    "    label = []\n",
    "    # Iterate over data with sliding window\n",
    "    for k in tqdm(range(0, y_patient.shape[0], step_size)):\n",
    "        win = y_patient[k:k+win_size]\n",
    "        label.append(round(win.mean()))\n",
    "    \n",
    "    X_patient['patient'] = i\n",
    "    X.append(X_patient)\n",
    "    y.append(label)\n",
    "\n",
    "    print(np.unique(label, return_counts=True))\n",
    "\n",
    "\n",
    "# Combine data from all patients\n",
    "X = np.concatenate(X)\n",
    "y = np.concatenate(y)\n",
    "\n",
    "pd.concat(matrices).to_csv('features.csv')\n",
    "pd.DataFrame(y, columns=[\"Target\"]).to_csv('target.csv')"
   ]
  },
  {
   "cell_type": "code",
   "execution_count": 16,
   "metadata": {},
   "outputs": [
    {
     "data": {
      "image/png": "[encoded data removed]",
      "text/plain": [
       "<Figure size 640x480 with 1 Axes>"
      ]
     },
     "metadata": {},
     "output_type": "display_data"
    }
   ],
   "source": [
    "# shape of the labels for each patient\n",
    "a = np.array([(i+1, plot[i][0]) for i in range(len(plot))])\n",
    "a = a.reshape(-1,2)\n",
    "\n",
    "# Separate the data into x and y arrays\n",
    "x = a[:, 0]\n",
    "y = a[:, 1]\n",
    "\n",
    "\n",
    "# Create bar plot\n",
    "fig, ax = plt.subplots()\n",
    "ax.bar(x[:-2], y[:-2], color='k', label='Train')\n",
    "ax.bar(x[-2:], y[-2:], color='indianred', label='Test')\n",
    "\n",
    "# Set labels and legend\n",
    "ax.legend()\n",
    "ax.set_xlabel(\"Patient\")\n",
    "plt.xticks(x)\n",
    "plt.title(\"Number of labels for each patient\")\n",
    "plt.show()"
   ]
  },
  {
   "cell_type": "code",
   "execution_count": null,
   "metadata": {},
   "outputs": [],
   "source": []
  }
 ],
 "metadata": {
  "kernelspec": {
   "display_name": "yasa",
   "language": "python",
   "name": "python3"
  },
  "language_info": {
   "codemirror_mode": {
    "name": "ipython",
    "version": 3
   },
   "file_extension": ".py",
   "mimetype": "text/x-python",
   "name": "python",
   "nbconvert_exporter": "python",
   "pygments_lexer": "ipython3",
   "version": "3.10.10"
  },
  "orig_nbformat": 4
 },
 "nbformat": 4,
 "nbformat_minor": 2
}
